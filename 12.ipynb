{
 "cells": [
  {
   "cell_type": "markdown",
   "id": "ff6a5ea8-5867-441d-be11-c668598aaf9f",
   "metadata": {},
   "source": [
    "## Handling missing data"
   ]
  },
  {
   "cell_type": "code",
   "execution_count": 1,
   "id": "44fbb5f5-ccb0-4dd6-86b2-ce714dd953aa",
   "metadata": {},
   "outputs": [
    {
     "name": "stdout",
     "output_type": "stream",
     "text": [
      "Original DataFrame with missing values:\n",
      "     Age   Salary\n",
      "0  25.0  50000.0\n",
      "1   NaN  60000.0\n",
      "2  30.0      NaN\n",
      "3  35.0  80000.0\n",
      "4   NaN      NaN\n"
     ]
    }
   ],
   "source": [
    "import pandas as pd\n",
    "from sklearn.impute import SimpleImputer\n",
    "\n",
    "# Sample data\n",
    "data = {\n",
    "    'Age': [25, None, 30, 35, None], \n",
    "    'Salary': [50000, 60000, None, 80000, None]\n",
    "        }\n",
    "df = pd.DataFrame(data)\n",
    "\n",
    "print(\"Original DataFrame with missing values:\\n\", df)"
   ]
  },
  {
   "cell_type": "code",
   "execution_count": 2,
   "id": "247c547f-01f1-4023-baa9-86a9d3ab9282",
   "metadata": {},
   "outputs": [
    {
     "name": "stdout",
     "output_type": "stream",
     "text": [
      "Original DataFrame with new columns:\n",
      "     Age   Salary  Age_missing  Salary_missing\n",
      "0  25.0  50000.0        False           False\n",
      "1   NaN  60000.0         True           False\n",
      "2  30.0      NaN        False            True\n",
      "3  35.0  80000.0        False           False\n",
      "4   NaN      NaN         True            True\n"
     ]
    }
   ],
   "source": [
    "# Adding a flag column for missing values\n",
    "df['Age_missing'] = df['Age'].isnull()\n",
    "df['Salary_missing'] = df['Salary'].isnull()\n",
    "\n",
    "print(\"Original DataFrame with new columns:\\n\", df)"
   ]
  },
  {
   "cell_type": "code",
   "execution_count": null,
   "id": "a4e538d5-8bea-48b0-99d7-5d98507631e2",
   "metadata": {},
   "outputs": [],
   "source": [
    "# Deleting rows with missing data\n",
    "df_dropna = df.dropna()\n",
    "\n",
    "print(\"\\nDataFrame after dropping missing values:\\n\", df_dropna)"
   ]
  },
  {
   "cell_type": "code",
   "execution_count": null,
   "id": "1c63f905-0e18-4aec-a05f-c2c7aaf7b1bd",
   "metadata": {},
   "outputs": [],
   "source": [
    "# Imputation with mean for missing values\n",
    "imputer = SimpleImputer(strategy='mean')\n",
    "df_imputed = pd.DataFrame(imputer.fit_transform(df), columns=df.columns)\n",
    "\n",
    "print(\"\\nDataFrame after imputation:\\n\", df_imputed)"
   ]
  }
 ],
 "metadata": {
  "kernelspec": {
   "display_name": "Python 3 (ipykernel)",
   "language": "python",
   "name": "python3"
  },
  "language_info": {
   "codemirror_mode": {
    "name": "ipython",
    "version": 3
   },
   "file_extension": ".py",
   "mimetype": "text/x-python",
   "name": "python",
   "nbconvert_exporter": "python",
   "pygments_lexer": "ipython3",
   "version": "3.11.7"
  },
  "widgets": {
   "application/vnd.jupyter.widget-state+json": {
    "state": {},
    "version_major": 2,
    "version_minor": 0
   }
  }
 },
 "nbformat": 4,
 "nbformat_minor": 5
}
