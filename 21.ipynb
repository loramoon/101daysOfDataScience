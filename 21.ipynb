{
 "cells": [
  {
   "cell_type": "markdown",
   "id": "dd7b066c-c19e-4dba-9dcd-f490d20f8e67",
   "metadata": {},
   "source": [
    "## Extensive Libraries: The Power of Pandas, NumPy, and Beyond"
   ]
  },
  {
   "cell_type": "code",
   "execution_count": 1,
   "id": "4d5c3ecc-e397-44b4-866c-84012f21008f",
   "metadata": {},
   "outputs": [
    {
     "name": "stdout",
     "output_type": "stream",
     "text": [
      "      Name  Age  Salary  Bonus\n",
      "0    Alice   24   48000   2910\n",
      "1      Bob   27   52000   4651\n",
      "2  Charlie   22   45000   2648\n",
      "3    David   32   60000   1219\n"
     ]
    }
   ],
   "source": [
    "import pandas as pd\n",
    "import numpy as np\n",
    "\n",
    "# Create a simple DataFrame\n",
    "data = {'Name': ['Alice', 'Bob', 'Charlie', 'David'],\n",
    "        'Age': [24, 27, 22, 32],\n",
    "        'Salary': [48000, 52000, 45000, 60000]}\n",
    "\n",
    "df = pd.DataFrame(data)\n",
    "\n",
    "# Add a new column with a NumPy function\n",
    "df['Bonus'] = np.random.randint(1000, 5000, size=len(df))\n",
    "\n",
    "print(df)\n"
   ]
  },
  {
   "cell_type": "markdown",
   "id": "fb63e617-6b6e-4aee-94e1-5a50d5406493",
   "metadata": {},
   "source": [
    "## Integration: Python in Real-World Data Science"
   ]
  },
  {
   "cell_type": "code",
   "execution_count": 1,
   "id": "a498a43f-755b-463b-b13a-6ca42aff430b",
   "metadata": {},
   "outputs": [
    {
     "name": "stdout",
     "output_type": "stream",
     "text": [
      "    name  age   salary\n",
      "0  Alice   24  48000.0\n",
      "1    Bob   27  52000.0\n"
     ]
    }
   ],
   "source": [
    "import sqlite3\n",
    "import pandas as pd\n",
    "\n",
    "# Connect to an in-memory SQLite database\n",
    "conn = sqlite3.connect(':memory:')\n",
    "\n",
    "# Create a simple table\n",
    "conn.execute('''CREATE TABLE employees (name TEXT, age INTEGER, salary REAL)''')\n",
    "conn.execute('''INSERT INTO employees VALUES ('Alice', 24, 48000)''')\n",
    "conn.execute('''INSERT INTO employees VALUES ('Bob', 27, 52000)''')\n",
    "\n",
    "# Fetch data into a Pandas DataFrame\n",
    "df = pd.read_sql_query('SELECT * FROM employees', conn)\n",
    "\n",
    "# Display the DataFrame\n",
    "print(df)\n"
   ]
  },
  {
   "cell_type": "code",
   "execution_count": null,
   "id": "7d1906ee-79df-4c2a-b43e-42e862803216",
   "metadata": {},
   "outputs": [],
   "source": []
  }
 ],
 "metadata": {
  "kernelspec": {
   "display_name": "Python 3 (ipykernel)",
   "language": "python",
   "name": "python3"
  },
  "language_info": {
   "codemirror_mode": {
    "name": "ipython",
    "version": 3
   },
   "file_extension": ".py",
   "mimetype": "text/x-python",
   "name": "python",
   "nbconvert_exporter": "python",
   "pygments_lexer": "ipython3",
   "version": "3.11.7"
  },
  "widgets": {
   "application/vnd.jupyter.widget-state+json": {
    "state": {},
    "version_major": 2,
    "version_minor": 0
   }
  }
 },
 "nbformat": 4,
 "nbformat_minor": 5
}
