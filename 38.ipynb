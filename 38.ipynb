{
 "cells": [
  {
   "cell_type": "markdown",
   "id": "41ee77c9-6336-4679-b6a9-410cc4693dd0",
   "metadata": {},
   "source": [
    "## Lasso (L1) Regularization"
   ]
  },
  {
   "cell_type": "code",
   "execution_count": 5,
   "id": "9e4b5b80-87eb-440e-8f8a-91e1e586e9a7",
   "metadata": {},
   "outputs": [
    {
     "name": "stdout",
     "output_type": "stream",
     "text": [
      "Lasso Coefficients: [79.65782643 13.42405735 70.93594108 86.33317744 74.37691338 58.83732891\n",
      "  2.70209274  0.31261733 65.04648457 13.58030789]\n"
     ]
    }
   ],
   "source": [
    "from sklearn.linear_model import Lasso\n",
    "from sklearn.datasets import make_regression\n",
    "import numpy as np\n",
    "\n",
    "# Generating synthetic data\n",
    "X, y = make_regression(n_samples=100, n_features=10, noise=0.1)\n",
    "\n",
    "# Applying Lasso regression\n",
    "lasso_model = Lasso(alpha=0.1)\n",
    "lasso_model.fit(X, y)\n",
    "\n",
    "# Coefficients\n",
    "print(\"Lasso Coefficients:\", lasso_model.coef_)\n"
   ]
  },
  {
   "cell_type": "markdown",
   "id": "ae5a6ddc-432e-45cd-8a66-f060d3cdbf09",
   "metadata": {},
   "source": [
    "## Ridge (L2) Regularization"
   ]
  },
  {
   "cell_type": "code",
   "execution_count": 9,
   "id": "96f01abf-7572-4a49-b447-c201d2694601",
   "metadata": {},
   "outputs": [
    {
     "name": "stdout",
     "output_type": "stream",
     "text": [
      "Ridge Coefficients: [79.69645759 13.49431847 70.99116047 86.37636206 74.42445171 58.88349353\n",
      "  2.83044559  0.41610938 65.08231048 13.71787575]\n"
     ]
    }
   ],
   "source": [
    "from sklearn.linear_model import Ridge\n",
    "\n",
    "# Applying Ridge regression\n",
    "ridge_model = Ridge(alpha=0.1)\n",
    "ridge_model.fit(X, y)\n",
    "\n",
    "# Coefficients\n",
    "print(\"Ridge Coefficients:\", ridge_model.coef_)\n"
   ]
  },
  {
   "cell_type": "markdown",
   "id": "b5f3b20c-5397-479d-ad0d-ac20fc7999b7",
   "metadata": {},
   "source": [
    "## ElasticNet Regularization"
   ]
  },
  {
   "cell_type": "code",
   "execution_count": 10,
   "id": "82d58422-e869-47db-98df-ab7952523a6b",
   "metadata": {},
   "outputs": [
    {
     "name": "stdout",
     "output_type": "stream",
     "text": [
      "ElasticNet Coefficients: [75.39797071 12.86883299 66.89146983 80.06352403 69.59312277 55.12851458\n",
      "  2.25719318  0.2711613  61.62096757 10.93751117]\n"
     ]
    }
   ],
   "source": [
    "from sklearn.linear_model import ElasticNet\n",
    "\n",
    "# Applying ElasticNet regression\n",
    "elastic_net_model = ElasticNet(alpha=0.1, l1_ratio=0.5)\n",
    "elastic_net_model.fit(X, y)\n",
    "\n",
    "# Coefficients\n",
    "print(\"ElasticNet Coefficients:\", elastic_net_model.coef_)\n"
   ]
  },
  {
   "cell_type": "code",
   "execution_count": null,
   "id": "80946d06-11a8-4a00-9d47-4f21a980bb9e",
   "metadata": {},
   "outputs": [],
   "source": []
  },
  {
   "cell_type": "code",
   "execution_count": null,
   "id": "a690d389-ee8b-4179-9f33-dd10963cc2bf",
   "metadata": {},
   "outputs": [],
   "source": []
  },
  {
   "cell_type": "code",
   "execution_count": null,
   "id": "6b2de77b-bd55-407e-9cce-356ebbd900ce",
   "metadata": {},
   "outputs": [],
   "source": []
  }
 ],
 "metadata": {
  "kernelspec": {
   "display_name": "Python 3 (ipykernel)",
   "language": "python",
   "name": "python3"
  },
  "language_info": {
   "codemirror_mode": {
    "name": "ipython",
    "version": 3
   },
   "file_extension": ".py",
   "mimetype": "text/x-python",
   "name": "python",
   "nbconvert_exporter": "python",
   "pygments_lexer": "ipython3",
   "version": "3.11.7"
  },
  "widgets": {
   "application/vnd.jupyter.widget-state+json": {
    "state": {},
    "version_major": 2,
    "version_minor": 0
   }
  }
 },
 "nbformat": 4,
 "nbformat_minor": 5
}
