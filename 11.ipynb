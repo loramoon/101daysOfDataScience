{
 "cells": [
  {
   "cell_type": "markdown",
   "id": "ff6a5ea8-5867-441d-be11-c668598aaf9f",
   "metadata": {},
   "source": [
    "## Surveys and Questionnaires"
   ]
  },
  {
   "cell_type": "markdown",
   "id": "068f20ab-7853-4a9b-ae5f-4a72b9004bd8",
   "metadata": {},
   "source": [
    "### Code Example: Basic Survey Creation"
   ]
  },
  {
   "cell_type": "code",
   "execution_count": 3,
   "id": "fb6e918a-9260-4375-9bd0-b49c0c13de55",
   "metadata": {},
   "outputs": [
    {
     "name": "stdin",
     "output_type": "stream",
     "text": [
      "What is your name?  Violeta\n",
      "How old are you?  33+\n",
      "Rate your satisfaction from 1 to 5:  2\n",
      "Would you recommend us? (Yes/No):  Yes\n",
      "What is your name?  Lora\n",
      "How old are you?  5\n",
      "Rate your satisfaction from 1 to 5:  6\n",
      "Would you recommend us? (Yes/No):  Maybe\n",
      "What is your name?  John Smith\n",
      "How old are you?  ten\n",
      "Rate your satisfaction from 1 to 5:  5\n",
      "Would you recommend us? (Yes/No):  No\n"
     ]
    }
   ],
   "source": [
    "import pandas as pd\n",
    "\n",
    "# Simulate survey questions\n",
    "survey = {\n",
    "    \"Name\": [],\n",
    "    \"Age\": [],\n",
    "    \"Rating (1-5)\": [],\n",
    "    \"Recommendation (Yes/No)\": []\n",
    "}\n",
    "\n",
    "# Collect responses, Simulate 3 respondents\n",
    "for i in range(3):\n",
    "    \n",
    "    name = input(\"What is your name? \")\n",
    "    age = input(\"How old are you? \")\n",
    "    rating = input(\"Rate your satisfaction from 1 to 5: \")\n",
    "    recommend = input(\"Would you recommend us? (Yes/No): \")\n",
    "    \n",
    "    # Append responses to survey\n",
    "    survey[\"Name\"].append(name)\n",
    "    survey[\"Age\"].append(age)\n",
    "    survey[\"Rating (1-5)\"].append(rating)\n",
    "    survey[\"Recommendation (Yes/No)\"].append(recommend)\n",
    "\n",
    "\n"
   ]
  },
  {
   "cell_type": "code",
   "execution_count": 4,
   "id": "4a148be1-c1b6-44ca-8e6e-ebed0dfb332b",
   "metadata": {},
   "outputs": [
    {
     "name": "stdout",
     "output_type": "stream",
     "text": [
      "         Name  Age Rating (1-5) Recommendation (Yes/No)\n",
      "0     Violeta  33+            2                     Yes\n",
      "1        Lora    5            6                   Maybe\n",
      "2  John Smith  ten            5                      No\n"
     ]
    }
   ],
   "source": [
    "# Print Results\n",
    "df = pd.DataFrame(survey)\n",
    "print(df)"
   ]
  },
  {
   "cell_type": "markdown",
   "id": "109a819c-cb90-4da2-855b-b60b12a034e4",
   "metadata": {},
   "source": [
    "### Code Example: Scraping a Simple Website"
   ]
  },
  {
   "cell_type": "code",
   "execution_count": 6,
   "id": "34192691-49be-4f2f-a8c7-4595c72d5dd6",
   "metadata": {},
   "outputs": [
    {
     "name": "stdout",
     "output_type": "stream",
     "text": [
      "Web Scraper\n",
      "Cloud Scraper\n",
      "Pricing\n",
      "Learn\n",
      "\n",
      "\t\t\tWelcome to WebScraper e-commerce site. You can use this site for training\n",
      "\t\t\tto learn how to use the Web Scraper. Items listed here are not for sale.\n",
      "\t\t\n",
      "12.5\", Core i5-4300U, 8GB, 240GB SSD, Win7 Pro 64bit\n",
      "12 reviews\n",
      "\n",
      "\n",
      "\n",
      "\n",
      "\n",
      "White\n",
      "10 reviews\n",
      "\n",
      "\n",
      "\n",
      "Acer Swift 1 SF113-31 Silver, 13.3\" FHD, Pentium N4200, 4GB, 128GB SSD, Windows 10 Home\n",
      "4 reviews\n",
      "\n",
      "\n",
      "\n",
      "\n",
      "\n",
      "Products\n",
      "Company\n",
      "Resources\n",
      "CONTACT US\n",
      "Copyright © 2024\n",
      "\t\t\t\t\tWeb Scraper | All rights reserved\n"
     ]
    }
   ],
   "source": [
    "import requests\n",
    "from bs4 import BeautifulSoup\n",
    "\n",
    "# Example URL for data scraping\n",
    "url = 'https://webscraper.io/test-sites/e-commerce/static'\n",
    "\n",
    "# Make a request to the website\n",
    "response = requests.get(url)\n",
    "\n",
    "# Parse the page content\n",
    "soup = BeautifulSoup(response.text, 'html.parser')\n",
    "\n",
    "# Extract specific data (e.g., all the text inside <p> tags)\n",
    "paragraphs = soup.find_all('p')\n",
    "for p in paragraphs:\n",
    "    print(p.text)\n"
   ]
  },
  {
   "cell_type": "code",
   "execution_count": null,
   "id": "011755c2-2d78-4506-8a52-da9ce41292d5",
   "metadata": {},
   "outputs": [],
   "source": [
    "Code Example: Accessing Data via API (weatherapi-com)"
   ]
  },
  {
   "cell_type": "code",
   "execution_count": 13,
   "id": "8dda2d8b-e085-4cd4-a134-dbf7359ec145",
   "metadata": {},
   "outputs": [
    {
     "name": "stdout",
     "output_type": "stream",
     "text": [
      "{\"location\":{\"name\":\"Paris\",\"region\":\"Ile-de-France\",\"country\":\"France\",\"lat\":48.87,\"lon\":2.33,\"tz_id\":\"Europe/Paris\",\"localtime_epoch\":1725659784,\"localtime\":\"2024-09-06 23:56\"},\"current\":{\"last_updated_epoch\":1725659100,\"last_updated\":\"2024-09-06 23:45\",\"temp_c\":18.1,\"temp_f\":64.6,\"is_day\":0,\"condition\":{\"text\":\"Clear\",\"icon\":\"//cdn.weatherapi.com/weather/64x64/night/113.png\",\"code\":1000},\"wind_mph\":4.3,\"wind_kph\":6.8,\"wind_degree\":100,\"wind_dir\":\"E\",\"pressure_mb\":1010.0,\"pressure_in\":29.83,\"precip_mm\":0.0,\"precip_in\":0.0,\"humidity\":77,\"cloud\":0,\"feelslike_c\":18.1,\"feelslike_f\":64.6,\"windchill_c\":18.8,\"windchill_f\":65.9,\"heatindex_c\":18.8,\"heatindex_f\":65.9,\"dewpoint_c\":11.3,\"dewpoint_f\":52.3,\"vis_km\":10.0,\"vis_miles\":6.0,\"uv\":1.0,\"gust_mph\":8.7,\"gust_kph\":14.1}}\n"
     ]
    }
   ],
   "source": [
    "import http.client\n",
    "\n",
    "conn = http.client.HTTPSConnection(\"weatherapi-com.p.rapidapi.com\")\n",
    "\n",
    "headers = {\n",
    "    'x-rapidapi-key': \"29e7ad2ed2msh784ded6c264842ap1ef674jsn83e7b584910a\",\n",
    "    'x-rapidapi-host': \"weatherapi-com.p.rapidapi.com\"\n",
    "}\n",
    "\n",
    "conn.request(\"GET\", \"/current.json?q=Paris\", headers=headers)\n",
    "\n",
    "res = conn.getresponse()\n",
    "data = res.read()\n",
    "\n",
    "print(data.decode(\"utf-8\"))"
   ]
  },
  {
   "cell_type": "markdown",
   "id": "f2652284-b152-4f35-99ed-c4e0c650269f",
   "metadata": {},
   "source": [
    "### Code Example: Simulating Sensor Data Collection"
   ]
  },
  {
   "cell_type": "code",
   "execution_count": 15,
   "id": "cfe5014e-71b0-4878-ad82-c068798511ae",
   "metadata": {},
   "outputs": [
    {
     "name": "stdout",
     "output_type": "stream",
     "text": [
      "Temperature Reading 1: 21.52°C\n",
      "Temperature Reading 2: 23.64°C\n",
      "Temperature Reading 3: 21.21°C\n",
      "Temperature Reading 4: 21.11°C\n",
      "Temperature Reading 5: 22.21°C\n"
     ]
    }
   ],
   "source": [
    "import random\n",
    "import time\n",
    "\n",
    "'''\n",
    "Simulate reading of 5 sensor data \n",
    "of temperature between 20-25 degrees\n",
    "every 2 seconds.\n",
    "'''\n",
    "for i in range(5):  \n",
    "    temperature = random.uniform(20.0, 25.0) \n",
    "    print(f\"Temperature Reading {i+1}: {temperature:.2f}°C\")\n",
    "    time.sleep(2)  \n"
   ]
  },
  {
   "cell_type": "code",
   "execution_count": null,
   "id": "7b38c2c8-54a9-43f0-b9d5-d0285758fbe0",
   "metadata": {},
   "outputs": [],
   "source": []
  }
 ],
 "metadata": {
  "kernelspec": {
   "display_name": "Python 3 (ipykernel)",
   "language": "python",
   "name": "python3"
  },
  "language_info": {
   "codemirror_mode": {
    "name": "ipython",
    "version": 3
   },
   "file_extension": ".py",
   "mimetype": "text/x-python",
   "name": "python",
   "nbconvert_exporter": "python",
   "pygments_lexer": "ipython3",
   "version": "3.11.7"
  },
  "widgets": {
   "application/vnd.jupyter.widget-state+json": {
    "state": {},
    "version_major": 2,
    "version_minor": 0
   }
  }
 },
 "nbformat": 4,
 "nbformat_minor": 5
}
