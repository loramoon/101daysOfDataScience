{
 "cells": [
  {
   "cell_type": "markdown",
   "id": "ced8dbb2-8671-490a-b1b0-927cdbabb6b2",
   "metadata": {},
   "source": [
    "## Python code example"
   ]
  },
  {
   "cell_type": "code",
   "execution_count": 17,
   "id": "18affc9e-53b3-4621-a5e7-551d286a5ae1",
   "metadata": {},
   "outputs": [
    {
     "data": {
      "text/html": [
       "<div>\n",
       "<style scoped>\n",
       "    .dataframe tbody tr th:only-of-type {\n",
       "        vertical-align: middle;\n",
       "    }\n",
       "\n",
       "    .dataframe tbody tr th {\n",
       "        vertical-align: top;\n",
       "    }\n",
       "\n",
       "    .dataframe thead th {\n",
       "        text-align: right;\n",
       "    }\n",
       "</style>\n",
       "<table border=\"1\" class=\"dataframe\">\n",
       "  <thead>\n",
       "    <tr style=\"text-align: right;\">\n",
       "      <th></th>\n",
       "      <th>Name</th>\n",
       "      <th>Age</th>\n",
       "      <th>City</th>\n",
       "    </tr>\n",
       "  </thead>\n",
       "  <tbody>\n",
       "    <tr>\n",
       "      <th>0</th>\n",
       "      <td>Alice</td>\n",
       "      <td>25</td>\n",
       "      <td>New York</td>\n",
       "    </tr>\n",
       "    <tr>\n",
       "      <th>1</th>\n",
       "      <td>Bob</td>\n",
       "      <td>35</td>\n",
       "      <td>Los Angeles</td>\n",
       "    </tr>\n",
       "    <tr>\n",
       "      <th>2</th>\n",
       "      <td>Charlie</td>\n",
       "      <td>30</td>\n",
       "      <td>Chicago</td>\n",
       "    </tr>\n",
       "  </tbody>\n",
       "</table>\n",
       "</div>"
      ],
      "text/plain": [
       "      Name  Age         City\n",
       "0    Alice   25     New York\n",
       "1      Bob   35  Los Angeles\n",
       "2  Charlie   30      Chicago"
      ]
     },
     "execution_count": 17,
     "metadata": {},
     "output_type": "execute_result"
    }
   ],
   "source": [
    "import pandas as pd\n",
    "\n",
    "# Creating a simple DataFrame\n",
    "data = {\n",
    "    'Name': ['Alice', 'Bob', 'Charlie'],\n",
    "    'Age': [25, 35, 30],\n",
    "    'City': ['New York', 'Los Angeles', 'Chicago']\n",
    "}\n",
    "\n",
    "df = pd.DataFrame(data)\n",
    "\n",
    "# Displaying the DataFrame\n",
    "df\n"
   ]
  },
  {
   "cell_type": "markdown",
   "id": "d54cee31-7934-47eb-a8b4-155a6f5d3709",
   "metadata": {},
   "source": [
    "## Python code example"
   ]
  },
  {
   "cell_type": "code",
   "execution_count": 7,
   "id": "8a0bd477-0eec-443c-acc0-ce07c423bb9c",
   "metadata": {},
   "outputs": [
    {
     "data": {
      "text/plain": [
       "0    25\n",
       "1    30\n",
       "2    35\n",
       "Name: Age, dtype: int64"
      ]
     },
     "execution_count": 7,
     "metadata": {},
     "output_type": "execute_result"
    }
   ],
   "source": [
    "# Creating a Series\n",
    "age_series = pd.Series([25, 30, 35], name=\"Age\")\n",
    "\n",
    "# Displaying the Series\n",
    "age_series\n"
   ]
  },
  {
   "cell_type": "markdown",
   "id": "dfdb73e6-8017-4cf5-9ff9-f8139512145d",
   "metadata": {},
   "source": [
    "## Python code example"
   ]
  },
  {
   "cell_type": "code",
   "execution_count": 18,
   "id": "eed26b5e-7dac-49c3-92ae-053067c03e6a",
   "metadata": {},
   "outputs": [
    {
     "name": "stdout",
     "output_type": "stream",
     "text": [
      "Filtered DataFrame:\n",
      "       Name  Age         City\n",
      "1      Bob   35  Los Angeles\n",
      "2  Charlie   30      Chicago\n",
      "\n",
      "Sorted DataFrame:\n",
      "       Name  Age         City\n",
      "0    Alice   25     New York\n",
      "2  Charlie   30      Chicago\n",
      "1      Bob   35  Los Angeles\n"
     ]
    }
   ],
   "source": [
    "# Filtering DataFrame by a condition\n",
    "filtered_df = df[df['Age'] > 28]\n",
    "\n",
    "# Sorting the DataFrame by Age\n",
    "sorted_df = df.sort_values('Age')\n",
    "\n",
    "# Displaying the results\n",
    "print(\"Filtered DataFrame:\\n\", filtered_df)\n",
    "\n",
    "print(\"Sorted DataFrame:\\n\", sorted_df)\n"
   ]
  },
  {
   "cell_type": "code",
   "execution_count": null,
   "id": "58266d2e-a1a3-43c6-8c25-60f76eec6918",
   "metadata": {},
   "outputs": [],
   "source": []
  }
 ],
 "metadata": {
  "kernelspec": {
   "display_name": "Python 3 (ipykernel)",
   "language": "python",
   "name": "python3"
  },
  "language_info": {
   "codemirror_mode": {
    "name": "ipython",
    "version": 3
   },
   "file_extension": ".py",
   "mimetype": "text/x-python",
   "name": "python",
   "nbconvert_exporter": "python",
   "pygments_lexer": "ipython3",
   "version": "3.11.7"
  },
  "widgets": {
   "application/vnd.jupyter.widget-state+json": {
    "state": {},
    "version_major": 2,
    "version_minor": 0
   }
  }
 },
 "nbformat": 4,
 "nbformat_minor": 5
}
