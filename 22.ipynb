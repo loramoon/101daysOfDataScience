{
 "cells": [
  {
   "cell_type": "markdown",
   "id": "8d894675-913f-4a71-ad5f-4cccee24458e",
   "metadata": {},
   "source": [
    "## Python code example"
   ]
  },
  {
   "cell_type": "code",
   "execution_count": 1,
   "id": "1184e9b6-3df8-4125-b9e6-bba27bbae8cd",
   "metadata": {},
   "outputs": [
    {
     "name": "stdout",
     "output_type": "stream",
     "text": [
      "25 Alice 5.7\n"
     ]
    }
   ],
   "source": [
    "# Assigning values to variables\n",
    "age = 25  # integer\n",
    "name = \"Alice\"  # string\n",
    "height = 5.7  # float\n",
    "\n",
    "# Printing the variables\n",
    "print(age, name, height)\n"
   ]
  },
  {
   "cell_type": "markdown",
   "id": "77b5d560-3531-4e60-a1c3-2dcfa764be6c",
   "metadata": {},
   "source": [
    "## Python code example"
   ]
  },
  {
   "cell_type": "code",
   "execution_count": 2,
   "id": "25bff9c5-989b-4ffb-8646-678857d67e7c",
   "metadata": {},
   "outputs": [
    {
     "name": "stdout",
     "output_type": "stream",
     "text": [
      "<class 'int'> <class 'float'> <class 'str'> <class 'bool'>\n"
     ]
    }
   ],
   "source": [
    "# Data types in Python\n",
    "integer_value = 10\n",
    "float_value = 10.5\n",
    "string_value = \"Hello\"\n",
    "boolean_value = True\n",
    "\n",
    "# Checking the data types\n",
    "print(type(integer_value), \n",
    "      type(float_value), \n",
    "      type(string_value), \n",
    "      type(boolean_value))"
   ]
  },
  {
   "cell_type": "markdown",
   "id": "8dee1874-76b8-46f9-80b8-5a8befad9aaf",
   "metadata": {},
   "source": [
    "## Python code example"
   ]
  },
  {
   "cell_type": "code",
   "execution_count": 3,
   "id": "d5f3e0dc-8b1b-4ec3-8c07-8161eb659107",
   "metadata": {},
   "outputs": [
    {
     "name": "stdout",
     "output_type": "stream",
     "text": [
      "1\n",
      "2\n",
      "3\n",
      "4\n",
      "5\n"
     ]
    }
   ],
   "source": [
    "# Using a for loop to iterate over a list\n",
    "numbers = [1, 2, 3, 4, 5]\n",
    "for number in numbers:\n",
    "    print(number)\n"
   ]
  },
  {
   "cell_type": "markdown",
   "id": "5019e359-3e7d-403e-be7f-dda3b04eb222",
   "metadata": {},
   "source": [
    "## Python code example"
   ]
  },
  {
   "cell_type": "code",
   "execution_count": 4,
   "id": "8d1ed73c-a0e9-463d-9713-70cc93af481b",
   "metadata": {},
   "outputs": [
    {
     "name": "stdout",
     "output_type": "stream",
     "text": [
      "Hello, Alice!\n"
     ]
    }
   ],
   "source": [
    "# Defining a function to greet a user\n",
    "def greet(name):\n",
    "    return f\"Hello, {name}!\"\n",
    "\n",
    "# Calling the function\n",
    "print(greet(\"Alice\"))\n"
   ]
  },
  {
   "cell_type": "code",
   "execution_count": null,
   "id": "9611b47c-ce1c-4b99-91e7-c060ec3b6fe6",
   "metadata": {},
   "outputs": [],
   "source": []
  }
 ],
 "metadata": {
  "kernelspec": {
   "display_name": "Python 3 (ipykernel)",
   "language": "python",
   "name": "python3"
  },
  "language_info": {
   "codemirror_mode": {
    "name": "ipython",
    "version": 3
   },
   "file_extension": ".py",
   "mimetype": "text/x-python",
   "name": "python",
   "nbconvert_exporter": "python",
   "pygments_lexer": "ipython3",
   "version": "3.11.7"
  },
  "widgets": {
   "application/vnd.jupyter.widget-state+json": {
    "state": {},
    "version_major": 2,
    "version_minor": 0
   }
  }
 },
 "nbformat": 4,
 "nbformat_minor": 5
}
