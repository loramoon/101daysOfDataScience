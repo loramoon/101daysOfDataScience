{
 "cells": [
  {
   "cell_type": "markdown",
   "id": "ff6a5ea8-5867-441d-be11-c668598aaf9f",
   "metadata": {},
   "source": [
    "## Data Transformation"
   ]
  },
  {
   "cell_type": "code",
   "execution_count": 2,
   "id": "9d3a9fed-710d-422c-98bf-2b4b919ca1e2",
   "metadata": {},
   "outputs": [
    {
     "name": "stdout",
     "output_type": "stream",
     "text": [
      "Original data:\n",
      "     Name  Age   Salary\n",
      "0  Alice   25  50000.0\n",
      "1    Bob   30  60000.0\n",
      "2  Alice   25  50000.0\n",
      "3  David   40      NaN\n",
      "4    Eve  120  70000.0\n"
     ]
    }
   ],
   "source": [
    "import pandas as pd\n",
    "\n",
    "# Sample data\n",
    "data = {'Name': ['Alice', 'Bob', 'Alice', 'David', 'Eve'],\n",
    "        'Age': [25, 30, 25, 40, 120],\n",
    "        'Salary': [50000, 60000, 50000, None, 70000]}\n",
    "\n",
    "df = pd.DataFrame(data)\n",
    "\n",
    "print(\"Original data:\\n\", df)\n"
   ]
  },
  {
   "cell_type": "code",
   "execution_count": null,
   "id": "c07c6bf7-ac9f-443d-8f8e-c1d214c6fd5f",
   "metadata": {},
   "outputs": [],
   "source": [
    "# Removing duplicates\n",
    "df_cleaned = df.drop_duplicates()\n"
   ]
  },
  {
   "cell_type": "code",
   "execution_count": null,
   "id": "5b826a56-7fc0-4628-8443-351973b44c29",
   "metadata": {},
   "outputs": [],
   "source": [
    "# Correcting age if it's unrealistic\n",
    "df_cleaned.loc[df_cleaned['Age'] > 100, 'Age'] = None\n"
   ]
  },
  {
   "cell_type": "code",
   "execution_count": null,
   "id": "5ddb7193-d211-489e-a36b-9484fbe24405",
   "metadata": {},
   "outputs": [],
   "source": [
    "# Detecting and handling missing salary\n",
    "df_cleaned.loc[:, 'Salary'] = df_cleaned['Salary'].fillna(df_cleaned['Salary'].mean())\n"
   ]
  },
  {
   "cell_type": "code",
   "execution_count": null,
   "id": "6fb2cf25-bf34-4ab7-9b9a-415aac4d526e",
   "metadata": {},
   "outputs": [],
   "source": []
  },
  {
   "cell_type": "code",
   "execution_count": null,
   "id": "02b6f0a7-51bd-4bf9-97cc-739f2f2638d9",
   "metadata": {},
   "outputs": [],
   "source": []
  },
  {
   "cell_type": "code",
   "execution_count": null,
   "id": "c83bbc91-fd79-459e-b705-14865d222707",
   "metadata": {},
   "outputs": [],
   "source": []
  }
 ],
 "metadata": {
  "kernelspec": {
   "display_name": "Python 3 (ipykernel)",
   "language": "python",
   "name": "python3"
  },
  "language_info": {
   "codemirror_mode": {
    "name": "ipython",
    "version": 3
   },
   "file_extension": ".py",
   "mimetype": "text/x-python",
   "name": "python",
   "nbconvert_exporter": "python",
   "pygments_lexer": "ipython3",
   "version": "3.11.7"
  },
  "widgets": {
   "application/vnd.jupyter.widget-state+json": {
    "state": {},
    "version_major": 2,
    "version_minor": 0
   }
  }
 },
 "nbformat": 4,
 "nbformat_minor": 5
}
