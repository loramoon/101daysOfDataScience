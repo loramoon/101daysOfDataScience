{
 "cells": [
  {
   "cell_type": "markdown",
   "id": "ff6a5ea8-5867-441d-be11-c668598aaf9f",
   "metadata": {},
   "source": [
    "## Random Variables"
   ]
  },
  {
   "cell_type": "code",
   "execution_count": 1,
   "id": "fb6e918a-9260-4375-9bd0-b49c0c13de55",
   "metadata": {},
   "outputs": [
    {
     "name": "stdout",
     "output_type": "stream",
     "text": [
      "Coin Flip Outcome: Heads (X = 1)\n"
     ]
    }
   ],
   "source": [
    "import random\n",
    "\n",
    "# Simulate a coin flip: X = 1 for heads, X = 0 for tails\n",
    "X = random.choice([1, 0])\n",
    "\n",
    "outcome = \"Heads\" if X == 1 else \"Tails\"\n",
    "\n",
    "print(f\"Coin Flip Outcome: {outcome} (X = {X})\")\n"
   ]
  },
  {
   "cell_type": "code",
   "execution_count": null,
   "id": "996a0f6b-f7d8-4aef-ab0d-fd2c7a7b643f",
   "metadata": {},
   "outputs": [],
   "source": []
  },
  {
   "cell_type": "code",
   "execution_count": 1,
   "id": "bd165c94-9263-4973-87ee-c0157694f1a1",
   "metadata": {},
   "outputs": [
    {
     "name": "stdout",
     "output_type": "stream",
     "text": [
      "Die Roll Outcome: 5\n",
      "Probability Distribution: {1: 0.167, 2: 0.167, 3: 0.167, 4: 0.167, 5: 0.167, 6: 0.167}\n"
     ]
    }
   ],
   "source": [
    "import random\n",
    "\n",
    "# Simulating a dice roll\n",
    "outcome = random.randint(1, 6)\n",
    "print(f\"Die Roll Outcome: {outcome}\")\n",
    "\n",
    "# Probability Distribution for a fair die\n",
    "probability_distribution = {i: round(1/6, 3) for i in range(1, 7)}\n",
    "print(f\"Probability Distribution: {probability_distribution}\")\n"
   ]
  },
  {
   "cell_type": "code",
   "execution_count": null,
   "id": "d5dbb763-80e2-48d3-b903-9abe889fbc39",
   "metadata": {},
   "outputs": [],
   "source": []
  },
  {
   "cell_type": "code",
   "execution_count": 4,
   "id": "3721949f-36d8-4ec9-9a66-4ebeffb71785",
   "metadata": {},
   "outputs": [
    {
     "name": "stdout",
     "output_type": "stream",
     "text": [
      "Conditional Probability: 0.6666666666666666\n"
     ]
    }
   ],
   "source": [
    "'''\n",
    "Example: \n",
    "Given one die rolled a 6, what's the probability \n",
    "the sum of 2 dice is greater than 8?\n",
    "'''\n",
    "\n",
    "possible_rolls = [1, 2, 3, 4, 5, 6]\n",
    "total_combinations = [(6, r) for r in possible_rolls]\n",
    "favorable_combinations = [combo for combo in total_combinations if sum(combo) > 8]\n",
    "\n",
    "conditional_probability = len(favorable_combinations) / len(total_combinations)\n",
    "print(f\"Conditional Probability: {conditional_probability}\")\n"
   ]
  },
  {
   "cell_type": "code",
   "execution_count": null,
   "id": "77cfd0c0-1aff-4b3a-a3a1-80cc5c545280",
   "metadata": {},
   "outputs": [],
   "source": []
  },
  {
   "cell_type": "code",
   "execution_count": null,
   "id": "44fbb5f5-ccb0-4dd6-86b2-ce714dd953aa",
   "metadata": {},
   "outputs": [],
   "source": []
  }
 ],
 "metadata": {
  "kernelspec": {
   "display_name": "Python 3 (ipykernel)",
   "language": "python",
   "name": "python3"
  },
  "language_info": {
   "codemirror_mode": {
    "name": "ipython",
    "version": 3
   },
   "file_extension": ".py",
   "mimetype": "text/x-python",
   "name": "python",
   "nbconvert_exporter": "python",
   "pygments_lexer": "ipython3",
   "version": "3.11.7"
  },
  "widgets": {
   "application/vnd.jupyter.widget-state+json": {
    "state": {},
    "version_major": 2,
    "version_minor": 0
   }
  }
 },
 "nbformat": 4,
 "nbformat_minor": 5
}
