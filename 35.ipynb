{
 "cells": [
  {
   "cell_type": "markdown",
   "id": "d2f77ed2-f655-4388-a943-af0506f13dec",
   "metadata": {},
   "source": [
    "## Accuracy"
   ]
  },
  {
   "cell_type": "code",
   "execution_count": 4,
   "id": "8da21e48-af5a-41cf-8159-aaad34bfa784",
   "metadata": {},
   "outputs": [
    {
     "name": "stdout",
     "output_type": "stream",
     "text": [
      "Accuracy: 0.95\n"
     ]
    }
   ],
   "source": [
    "from sklearn.metrics import accuracy_score\n",
    "\n",
    "# Example: True labels and predicted labels\n",
    "y_true = [0, 1, 1, 0, 1, 0, 1]\n",
    "y_pred = [0, 1, 0, 0, 1, 0, 1]\n",
    "\n",
    "# Calculate accuracy\n",
    "accuracy = accuracy_score(y_true, y_pred)\n",
    "print(f'Accuracy: {accuracy}')\n"
   ]
  },
  {
   "cell_type": "markdown",
   "id": "2e6b1787-18fd-4024-bf5a-be0ecf79202e",
   "metadata": {},
   "source": [
    "## Hierarchical Clustering "
   ]
  },
  {
   "cell_type": "code",
   "execution_count": 1,
   "id": "1a9a0905-b3c3-456b-8bee-e6107425ac59",
   "metadata": {},
   "outputs": [
    {
     "name": "stdout",
     "output_type": "stream",
     "text": [
      "Precision: 1.0\n"
     ]
    }
   ],
   "source": [
    "from sklearn.metrics import precision_score\n",
    "\n",
    "# Example: True labels and predicted labels\n",
    "y_true = [0, 1, 1, 0, 1, 0, 1]\n",
    "y_pred = [0, 1, 0, 0, 1, 0, 1]\n",
    "\n",
    "# Calculate precision\n",
    "precision = precision_score(y_true, y_pred)\n",
    "print(f'Precision: {precision}')\n"
   ]
  },
  {
   "cell_type": "markdown",
   "id": "7ac8eb7d-167a-444a-9a8f-76ccb234c5ad",
   "metadata": {},
   "source": [
    "## Recall"
   ]
  },
  {
   "cell_type": "code",
   "execution_count": 2,
   "id": "9766df28-0061-4b9a-a6d2-0ca446a0efe5",
   "metadata": {},
   "outputs": [
    {
     "name": "stdout",
     "output_type": "stream",
     "text": [
      "Recall: 0.75\n"
     ]
    }
   ],
   "source": [
    "from sklearn.metrics import recall_score\n",
    "\n",
    "# Example: True labels and predicted labels\n",
    "y_true = [0, 1, 1, 0, 1, 0, 1]\n",
    "y_pred = [0, 1, 0, 0, 1, 0, 1]\n",
    "\n",
    "# Calculate recall\n",
    "recall = recall_score(y_true, y_pred)\n",
    "print(f'Recall: {recall}')\n"
   ]
  },
  {
   "cell_type": "code",
   "execution_count": 5,
   "id": "029b390c-b499-43a9-8125-f9f99b4b24e2",
   "metadata": {},
   "outputs": [
    {
     "name": "stdout",
     "output_type": "stream",
     "text": [
      "Manual Recall: 0.75\n"
     ]
    }
   ],
   "source": [
    "# TP = True Positives, FN = False Negatives\n",
    "TP = 3   # Model correctly predicted 3 positives\n",
    "FN = 1   # Model missed 1 actual positive (false negatives)\n",
    "\n",
    "# Calculate recall manually\n",
    "recall = TP / (TP + FN)\n",
    "print(f'Manual Recall: {recall:.2f}')\n"
   ]
  },
  {
   "cell_type": "markdown",
   "id": "fb37ee30-d565-4770-825c-12ce0b39a076",
   "metadata": {},
   "source": [
    "## F1-Score"
   ]
  },
  {
   "cell_type": "code",
   "execution_count": 3,
   "id": "f16b5857-cdbe-4dcf-9981-9d162beec441",
   "metadata": {},
   "outputs": [
    {
     "name": "stdout",
     "output_type": "stream",
     "text": [
      "F1-Score: 0.9714285714285714\n"
     ]
    }
   ],
   "source": [
    "from sklearn.metrics import f1_score\n",
    "\n",
    "# True labels and predicted labels\n",
    "y_true = [1] * 90 + [0] * 10  # 90 instances of class 1 and 10 instances of class 0\n",
    "y_pred = [1] * 85 + [0] * 15   # Model predicts mostly class 1, with some errors\n",
    "\n",
    "# Calculate F1-Score\n",
    "f1 = f1_score(y_true, y_pred)\n",
    "print(f'F1-Score: {f1}')\n"
   ]
  },
  {
   "cell_type": "code",
   "execution_count": null,
   "id": "a4cde2c7-8c58-46a2-834e-02305242520b",
   "metadata": {},
   "outputs": [],
   "source": []
  }
 ],
 "metadata": {
  "kernelspec": {
   "display_name": "Python 3 (ipykernel)",
   "language": "python",
   "name": "python3"
  },
  "language_info": {
   "codemirror_mode": {
    "name": "ipython",
    "version": 3
   },
   "file_extension": ".py",
   "mimetype": "text/x-python",
   "name": "python",
   "nbconvert_exporter": "python",
   "pygments_lexer": "ipython3",
   "version": "3.11.7"
  },
  "widgets": {
   "application/vnd.jupyter.widget-state+json": {
    "state": {},
    "version_major": 2,
    "version_minor": 0
   }
  }
 },
 "nbformat": 4,
 "nbformat_minor": 5
}
