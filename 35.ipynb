{
 "cells": [
  {
   "cell_type": "markdown",
   "id": "d2f77ed2-f655-4388-a943-af0506f13dec",
   "metadata": {},
   "source": [
    "## Accuracy"
   ]
  },
  {
   "cell_type": "code",
   "execution_count": 4,
   "id": "8da21e48-af5a-41cf-8159-aaad34bfa784",
   "metadata": {},
   "outputs": [
    {
     "name": "stdout",
     "output_type": "stream",
     "text": [
      "Accuracy: 0.95\n"
     ]
    }
   ],
   "source": [
    "from sklearn.metrics import accuracy_score\n",
    "\n",
    "# Example: True labels and predicted labels\n",
    "y_true = [0, 1, 1, 0, 1, 0, 1]\n",
    "y_pred = [0, 1, 0, 0, 1, 0, 1]\n",
    "\n",
    "# Calculate accuracy\n",
    "accuracy = accuracy_score(y_true, y_pred)\n",
    "print(f'Accuracy: {accuracy}')\n"
   ]
  },
  {
   "cell_type": "markdown",
   "id": "2e6b1787-18fd-4024-bf5a-be0ecf79202e",
   "metadata": {},
   "source": [
    "## Hierarchical Clustering "
   ]
  },
  {
   "cell_type": "code",
   "execution_count": 1,
   "id": "1a9a0905-b3c3-456b-8bee-e6107425ac59",
   "metadata": {},
   "outputs": [
    {
     "name": "stdout",
     "output_type": "stream",
     "text": [
      "Precision: 1.0\n"
     ]
    }
   ],
   "source": [
    "from sklearn.metrics import precision_score\n",
    "\n",
    "# Example: True labels and predicted labels\n",
    "y_true = [0, 1, 1, 0, 1, 0, 1]\n",
    "y_pred = [0, 1, 0, 0, 1, 0, 1]\n",
    "\n",
    "# Calculate precision\n",
    "precision = precision_score(y_true, y_pred)\n",
    "print(f'Precision: {precision}')\n"
   ]
  },
  {
   "cell_type": "markdown",
   "id": "7ac8eb7d-167a-444a-9a8f-76ccb234c5ad",
   "metadata": {},
   "source": [
    "## Recall"
   ]
  },
  {
   "cell_type": "code",
   "execution_count": 2,
   "id": "9766df28-0061-4b9a-a6d2-0ca446a0efe5",
   "metadata": {},
   "outputs": [
    {
     "name": "stdout",
     "output_type": "stream",
     "text": [
      "Recall: 0.75\n"
     ]
    }
   ],
   "source": [
    "from sklearn.metrics import recall_score\n",
    "\n",
    "# Example: True labels and predicted labels\n",
    "y_true = [0, 1, 1, 0, 1, 0, 1]\n",
    "y_pred = [0, 1, 0, 0, 1, 0, 1]\n",
    "\n",
    "# Calculate recall\n",
    "recall = recall_score(y_true, y_pred)\n",
    "print(f'Recall: {recall}')\n"
   ]
  },
  {
   "cell_type": "code",
   "execution_count": 5,
   "id": "029b390c-b499-43a9-8125-f9f99b4b24e2",
   "metadata": {},
   "outputs": [
    {
     "name": "stdout",
     "output_type": "stream",
     "text": [
      "Manual Recall: 0.75\n"
     ]
    }
   ],
   "source": [
    "# TP = True Positives, FN = False Negatives\n",
    "TP = 3   # Model correctly predicted 3 positives\n",
    "FN = 1   # Model missed 1 actual positive (false negatives)\n",
    "\n",
    "# Calculate recall manually\n",
    "recall = TP / (TP + FN)\n",
    "print(f'Manual Recall: {recall:.2f}')\n"
   ]
  },
  {
   "cell_type": "markdown",
   "id": "fb37ee30-d565-4770-825c-12ce0b39a076",
   "metadata": {},
   "source": [
    "## F1-Score"
   ]
  },
  {
   "cell_type": "code",
   "execution_count": 3,
   "id": "f16b5857-cdbe-4dcf-9981-9d162beec441",
   "metadata": {},
   "outputs": [
    {
     "name": "stdout",
     "output_type": "stream",
     "text": [
      "F1-Score: 0.9714285714285714\n"
     ]
    }
   ],
   "source": [
    "from sklearn.metrics import f1_score\n",
    "\n",
    "# True labels and predicted labels\n",
    "y_true = [1] * 90 + [0] * 10  # 90 instances of class 1 and 10 instances of class 0\n",
    "y_pred = [1] * 85 + [0] * 15   # Model predicts mostly class 1, with some errors\n",
    "\n",
    "# Calculate F1-Score\n",
    "f1 = f1_score(y_true, y_pred)\n",
    "print(f'F1-Score: {f1}')\n"
   ]
  },
  {
   "cell_type": "markdown",
   "id": "8e5955aa-f88e-4662-9837-b718334a8c2b",
   "metadata": {},
   "source": [
    "s.\r\n",
    "*Timing:* 6 PM\r\n",
    "*Hashtags:* #Buzzing #Featured\r\n",
    "**Day 14: Educational Content**\r\n"
   ]
  },
  {
   "cell_type": "markdown",
   "id": "20e9c3ce-8342-4fca-a9e0-7ea5e75ed1b0",
   "metadata": {},
   "source": [
    "**Day 1: Introduction to the Brand**\n",
    "- **Facebook Post**: Share a heartfelt story about the inspiration behind creating personalized stuffed bunnies. Include high-quality images of the bunnies and a call to action (CTA) to follow the page.\n",
    "*Timing:* 10 AM\n",
    "*Hashtags:* #PersonalizedGifts #StuffedBunnies #SustainableLiving\n",
    "- **Instagram Post**: Share the same story with a series of images in a carousel format. Encourage users to tag friends who might be interested.\n",
    "*Timing:* 7 PM\n",
    "*Hashtags:* #EcoFriendlyToys #KidsKeepsake\n",
    "\n",
    "**Day 2: Behind the Scenes**\n",
    "- **Facebook Live**: Host a live session showing the process of turning kids' clothes into stuffed bunnies. Engage with viewers by answering questions.\n",
    "*Timing:* 1 PM\n",
    "- **Instagram Stories**: Share behind-the-scenes clips and create a highlight named \"Our Process\".\n",
    "*Timing:* Throughout the day\n",
    "\n",
    "**Day 3: Product Highlight**\n",
    "- **Facebook Post**: Focus on the unique features of the stuffed bunnies. Use a combination of images and text to detail the customization options.\n",
    "*Timing:* 11 AM\n",
    "*Hashtags:* #UniqueGifts #HandmadeToys\n",
    "- **Instagram Post**: Use a high-quality image and a creative caption to highlight the bunnies. Encourage users to share their favorite customization idea in the comments.\n",
    "*Timing:* 5 PM\n",
    "*Hashtags:* #OneOfAKind #PersonalizedToys\n",
    "\n",
    "**Day 4: Customer Testimonials**\n",
    "- **Facebook Post**: Share a positive customer testimonial with an image of the bunny and the child's clothing it was made from.\n",
    "*Timing:* 9 AM\n",
    "*Hashtags:* #HappyCustomers #CustomerLove\n",
    "- **Instagram Post**: Feature a different customer testimonial with a photo and a brief story.\n",
    "*Timing:* 8 PM\n",
    "*Hashtags:* #SatisfiedCustomers #EcoFriendlyKeepsakes\n",
    "\n",
    "**Day 5: Interactive Poll**\n",
    "- **Facebook Post**: Create a poll asking followers which aspect they love most about the personalized bunnies (e.g., customization, sustainability, uniqueness).\n",
    "*Timing:* 12 PM\n",
    "- **Instagram Story Poll**: Use a similar poll in Stories to gather insights and encourage interactions.\n",
    "*Timing:* After Facebook poll\n",
    "\n",
    "**Day 6: Q&A Session**\n",
    "- **Facebook Post**: Announce an upcoming Q&A session, inviting followers to leave their questions in the comments.\n",
    "*Timing:* 10 AM\n",
    "*Hashtags:* #AskUsAnything #PersonalizedBunnies\n",
    "- **Instagram Stories**: Use the Question sticker to collect inquiries for the Q&A session.\n",
    "*Timing:* Throughout the day\n",
    "\n",
    "**Day 7: Influencer Collaboration**\n",
    "- **Facebook Post**: Share a post where an influencer in the parenting niche showcases a personalized bunny. Include a quote from the influencer about why they love the product.\n",
    "*Timing:* 2 PM\n",
    "*Hashtags:* #InfluencerReview #MomLife\n",
    "- **Instagram Post**: Similar content with a tag to the influencer's account for increased reach.\n",
    "*Timing:* 6 PM\n",
    "*Hashtags:* #ParentingTips #ToyReview\n",
    "**Day 8: DIY Ideas**\n",
    "- **Facebook Post**: Share a blog post or video with DIY ideas for using kids' old clothes, linking to how customers can opt for a stuffed bunny if they're not crafty.\n",
    "*Timing:* 11 AM\n",
    "*Hashtags:* #DIY #Upcycling\n",
    "- **Instagram Story**: Share snippets of the DIY content and link to the full post.\n",
    "*Timing:* After Facebook post\n",
    "**Day 9: Giveaway Announcement**\n",
    "- **Facebook Post**: Announce a giveaway of a personalized stuffed bunny. Specify entry requirements (e.g., like the page, share the post, tag friends).\n",
    "*Timing:* 1 PM\n",
    "*Hashtags:* #Giveaway #WinIt\n",
    "- **Instagram Post**: Announce the same giveaway with similar entry requirements.\n",
    "*Timing:* 7 PM\n",
    "*Hashtags:* #FreeStuff #GiveawayAlert\n",
    "**Day 10: User-Generated Content**\n",
    "- **Facebook Post**: Encourage customers to share photos of their kids with the stuffed bunnies and tag the brand. Share a few of these photos as a collage.\n",
    "*Timing:* 9 AM\n",
    "*Hashtags:* #CustomersPhotos #LoveOurProducts\n",
    "- **Instagram Repost**: Share some user-generated content in Stories and as posts.\n",
    "*Timing:* Ongoing\n",
    "**Day 11: Flash Sale Announcement**\n",
    "- **Facebook Post**: Announce a flash sale for 24 hours with a special discount code. Create urgency with limited time and stock.\n",
    "*Timing:* 10 AM\n",
    "*Hashtags:* #FlashSale #LimitedTimeOffer\n",
    "- **Instagram Post**: Announce the flash sale with eye-catching graphics and CTA.\n",
    "*Timing:* 5 PM\n",
    "*Hashtags:* #SaleAlert #Discount\n",
    "**Day 12: Testimonial Video**\n",
    "- **Facebook Post**: Share a video compilation of different customer testimonials, including video clips and voice recordings.\n",
    "*Timing:* 11 AM\n",
    "*Hashtags:* #CustomerFeedback #LoveOurProducts\n",
    "- **Instagram TV (IGTV)**: Upload the testimonial video to IGTV and promote it in Stories.\n",
    "*Timing:* After Facebook post\n",
    "*Hashtags:* #Testimonials #HappyStories\n",
    "**Day 13: Feature in Press**\n",
    "- **Facebook Post**: Share any media coverage or blog features that spotlight your product. Highlight key points from the article.\n",
    "*Timing:* 1 PM\n",
    "*Hashtags:* #InTheNews #PressFeature\n",
    "- **Instagram Post**: Feature a photo of the article and mention key takeaways. Use the Swipe Up feature if you have over 10k followers.\n",
    "*Timing:* 6 PM\n",
    "*Hashtags:* #Buzzing #Featured\n",
    "**Day 14: Educational Content**\n"
   ]
  },
  {
   "cell_type": "code",
   "execution_count": null,
   "id": "a4cde2c7-8c58-46a2-834e-02305242520b",
   "metadata": {},
   "outputs": [],
   "source": []
  }
 ],
 "metadata": {
  "kernelspec": {
   "display_name": "Python 3 (ipykernel)",
   "language": "python",
   "name": "python3"
  },
  "language_info": {
   "codemirror_mode": {
    "name": "ipython",
    "version": 3
   },
   "file_extension": ".py",
   "mimetype": "text/x-python",
   "name": "python",
   "nbconvert_exporter": "python",
   "pygments_lexer": "ipython3",
   "version": "3.11.7"
  },
  "widgets": {
   "application/vnd.jupyter.widget-state+json": {
    "state": {},
    "version_major": 2,
    "version_minor": 0
   }
  }
 },
 "nbformat": 4,
 "nbformat_minor": 5
}
