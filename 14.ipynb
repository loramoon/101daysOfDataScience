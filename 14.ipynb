{
 "cells": [
  {
   "cell_type": "markdown",
   "id": "5a8f7178-0052-4b73-bcf6-c3bf8c8c5c48",
   "metadata": {},
   "source": [
    "## Min-Max Scaling and Standardization:"
   ]
  },
  {
   "cell_type": "code",
   "execution_count": 1,
   "id": "02b6f0a7-51bd-4bf9-97cc-739f2f2638d9",
   "metadata": {},
   "outputs": [
    {
     "name": "stdout",
     "output_type": "stream",
     "text": [
      "Original Data:\n",
      " [[10 20]\n",
      " [15 25]\n",
      " [30 35]]\n"
     ]
    }
   ],
   "source": [
    "import numpy as np\n",
    "\n",
    "# Sample data\n",
    "data = np.array([[10, 20], [15, 25], [30, 35]])\n",
    "\n",
    "print(\"Original Data:\\n\", data)"
   ]
  },
  {
   "cell_type": "markdown",
   "id": "76ac614c-35e9-4a85-a47c-0a67f1a60f57",
   "metadata": {},
   "source": [
    "from sklearn.preprocessing import MinMaxScaler\n",
    "\n",
    "# Min-Max Scaling\n",
    "scaler = MinMaxScaler()\n",
    "scaled_data = scaler.fit_transform(data)"
   ]
  },
  {
   "cell_type": "markdown",
   "id": "342a4aeb-567f-44ba-8444-fef191784ef6",
   "metadata": {},
   "source": [
    "print(\"Min-Max Scaled Data:\\n\", scaled_data)"
   ]
  },
  {
   "cell_type": "code",
   "execution_count": 2,
   "id": "f771e471-a022-4e4e-811d-7aaf646dd144",
   "metadata": {},
   "outputs": [],
   "source": [
    "from sklearn.preprocessing import StandardScaler\n",
    "\n",
    "# Standardization\n",
    "standardizer = StandardScaler()\n",
    "standardized_data = standardizer.fit_transform(data)"
   ]
  },
  {
   "cell_type": "code",
   "execution_count": 3,
   "id": "06163ff4-2777-414b-beb8-ac32dc4f2365",
   "metadata": {},
   "outputs": [
    {
     "name": "stdout",
     "output_type": "stream",
     "text": [
      "Standardized Data:\n",
      " [[-0.98058068 -1.06904497]\n",
      " [-0.39223227 -0.26726124]\n",
      " [ 1.37281295  1.33630621]]\n"
     ]
    }
   ],
   "source": [
    "print(\"Standardized Data:\\n\", standardized_data)"
   ]
  },
  {
   "cell_type": "code",
   "execution_count": 26,
   "id": "d0543213-71a6-4324-a728-124a48f46f95",
   "metadata": {},
   "outputs": [
    {
     "name": "stdout",
     "output_type": "stream",
     "text": [
      "Original Data:\n",
      " Alice\n",
      "  Bob\n",
      "Alice\n",
      "David\n",
      "  Eve\n"
     ]
    }
   ],
   "source": [
    "from sklearn.preprocessing import OneHotEncoder\n",
    "import pandas as pd\n",
    "\n",
    "# Sample categorical data\n",
    "categories = np.array([['Alice'], ['Bob'], ['Alice'], ['David'],['Eve']])\n",
    "df = pd.DataFrame(categories)\n",
    "\n",
    "print('Original Data:\\n', df.to_string(header=False, index=False))\n",
    "\n",
    "\n"
   ]
  },
  {
   "cell_type": "code",
   "execution_count": 24,
   "id": "b852bbd1-51ef-4b37-affb-788d078d42c4",
   "metadata": {},
   "outputs": [
    {
     "name": "stderr",
     "output_type": "stream",
     "text": [
      "C:\\Users\\VioletaAtanasova\\anaconda3\\Lib\\site-packages\\sklearn\\preprocessing\\_encoders.py:868: FutureWarning: `sparse` was renamed to `sparse_output` in version 1.2 and will be removed in 1.4. `sparse_output` is ignored unless you leave `sparse` to its default value.\n",
      "  warnings.warn(\n"
     ]
    }
   ],
   "source": [
    "from sklearn.preprocessing import OneHotEncoder\n",
    "\n",
    "# One-Hot Encoding\n",
    "encoder = OneHotEncoder(sparse=False)\n",
    "encoded_data = encoder.fit_transform(df)"
   ]
  },
  {
   "cell_type": "code",
   "execution_count": 25,
   "id": "1a7b3a6e-5f14-477c-82e7-f8dd9a91aee0",
   "metadata": {},
   "outputs": [
    {
     "name": "stdout",
     "output_type": "stream",
     "text": [
      "One-Hot Encoded Data:\n",
      " [[1. 0. 0. 0.]\n",
      " [0. 1. 0. 0.]\n",
      " [1. 0. 0. 0.]\n",
      " [0. 0. 1. 0.]\n",
      " [0. 0. 0. 1.]]\n"
     ]
    }
   ],
   "source": [
    "\n",
    "print(\"One-Hot Encoded Data:\\n\", encoded_data)"
   ]
  },
  {
   "cell_type": "code",
   "execution_count": null,
   "id": "e576f9d5-7d47-4060-b7c2-9e873625bb9d",
   "metadata": {},
   "outputs": [],
   "source": []
  },
  {
   "cell_type": "code",
   "execution_count": null,
   "id": "58aadc84-0050-4167-926e-602d7030c072",
   "metadata": {},
   "outputs": [],
   "source": []
  }
 ],
 "metadata": {
  "kernelspec": {
   "display_name": "Python 3 (ipykernel)",
   "language": "python",
   "name": "python3"
  },
  "language_info": {
   "codemirror_mode": {
    "name": "ipython",
    "version": 3
   },
   "file_extension": ".py",
   "mimetype": "text/x-python",
   "name": "python",
   "nbconvert_exporter": "python",
   "pygments_lexer": "ipython3",
   "version": "3.11.7"
  },
  "widgets": {
   "application/vnd.jupyter.widget-state+json": {
    "state": {},
    "version_major": 2,
    "version_minor": 0
   }
  }
 },
 "nbformat": 4,
 "nbformat_minor": 5
}
